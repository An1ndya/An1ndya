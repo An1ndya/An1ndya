{
  "nbformat": 4,
  "nbformat_minor": 0,
  "metadata": {
    "colab": {
      "name": "IIT Kharagpur-lab1.ipynb",
      "provenance": [],
      "authorship_tag": "ABX9TyMEODp0smpq2rTGbEaqre6i",
      "include_colab_link": true
    },
    "kernelspec": {
      "name": "python3",
      "display_name": "Python 3"
    },
    "language_info": {
      "name": "python"
    }
  },
  "cells": [
    {
      "cell_type": "markdown",
      "metadata": {
        "id": "view-in-github",
        "colab_type": "text"
      },
      "source": [
        "<a href=\"https://colab.research.google.com/github/An1ndya/An1ndya/blob/master/IIT_Kharagpur_lab1.ipynb\" target=\"_parent\"><img src=\"https://colab.research.google.com/assets/colab-badge.svg\" alt=\"Open In Colab\"/></a>"
      ]
    },
    {
      "cell_type": "code",
      "execution_count": 1,
      "metadata": {
        "colab": {
          "base_uri": "https://localhost:8080/"
        },
        "id": "044R8ZhzNjoM",
        "outputId": "7c542359-6231-43b0-f489-c6dbf5f21552"
      },
      "outputs": [
        {
          "output_type": "stream",
          "name": "stdout",
          "text": [
            "<class 'int'>\n"
          ]
        }
      ],
      "source": [
        "x=5\n",
        "print(type(x))"
      ]
    },
    {
      "cell_type": "code",
      "source": [
        "list = [3,5,7,9,11]\n",
        "target = 16\n",
        "n= len(list)\n",
        "for i in range(0,n):\n",
        "  for j in range(0,i):\n",
        "    if list[i]+list[j]==target:\n",
        "      print(list[i], list[j])"
      ],
      "metadata": {
        "colab": {
          "base_uri": "https://localhost:8080/"
        },
        "id": "ZyB_K-F6Rkj1",
        "outputId": "d66d2d83-45cb-47ae-8118-2c854f691e1e"
      },
      "execution_count": 3,
      "outputs": [
        {
          "output_type": "stream",
          "name": "stdout",
          "text": [
            "9 7\n",
            "11 5\n"
          ]
        }
      ]
    },
    {
      "cell_type": "code",
      "source": [
        "list = [3,5,7,9,11]\n",
        "target = 16\n",
        "n= len(list)\n",
        "dict = {}\n",
        "for i in range(0,n):\n",
        "  if target-list[i] in dict:\n",
        "    print(list[i], target-list[i])\n",
        "  else:\n",
        "    dict[list[i]]=True\n",
        "    #print(dict)\n",
        "      "
      ],
      "metadata": {
        "colab": {
          "base_uri": "https://localhost:8080/"
        },
        "id": "LEWABwJxS_P1",
        "outputId": "01005e64-1490-4da0-aff1-d55390509abb"
      },
      "execution_count": 8,
      "outputs": [
        {
          "output_type": "stream",
          "name": "stdout",
          "text": [
            "9 7\n",
            "11 5\n"
          ]
        }
      ]
    }
  ]
}